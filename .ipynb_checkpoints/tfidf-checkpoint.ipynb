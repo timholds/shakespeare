{
 "cells": [
  {
   "cell_type": "code",
   "execution_count": 128,
   "metadata": {
    "code_folding": [],
    "scrolled": true
   },
   "outputs": [],
   "source": [
    "import pandas as pd\n",
    "import string\n",
    "import pronouncing as prn\n",
    "from collections import defaultdict\n",
    "import math"
   ]
  },
  {
   "cell_type": "code",
   "execution_count": 16,
   "metadata": {
    "code_folding": [
     1
    ]
   },
   "outputs": [],
   "source": [
    "# Returns a list of poems, lowecase, no punctuation\n",
    "def make_poems_list(file_in):\n",
    "    with open(file_in, 'r') as file:\n",
    "        poems_list = file.read().split('\\n\\n')\n",
    "        # Get rid of poem titles, /n characters, and make characters lowercase\n",
    "        poems = [item.translate(str.maketrans('\\n',' ',string.punctuation)).lower() for item in poems_list[1::2]]\n",
    "            \n",
    "    return poems\n",
    "\n",
    "poems_list = make_poems_list('sonnets.txt')"
   ]
  },
  {
   "cell_type": "code",
   "execution_count": 17,
   "metadata": {
    "code_folding": [
     1
    ]
   },
   "outputs": [],
   "source": [
    "# Returns list of poems with phonemes instead of words, and list of slang words\n",
    "def poems_to_phones(poems):\n",
    "    poems_phones = []\n",
    "    poems_slang = []\n",
    "    \n",
    "    for poem in poems:\n",
    "        poem_phones = \"\"\n",
    "        poem_slang = []\n",
    "        \n",
    "        words = poem.split()\n",
    "        for word in words:\n",
    "            p = prn.phones_for_word(word)\n",
    "            if len(p) == 1: # there is only one pronunciation\n",
    "                poem_phones = poem_phones + p[0] + \" \"\n",
    "            elif len(p) > 1: # there is more than one pronunciation\n",
    "                # TODO fix this hack by figuring out which pronunciation is best instead of just choosing the 1st\n",
    "                poem_phones = poem_phones + p[0] + \" \"\n",
    "            else: # the word is not in the pronouncing dictionary\n",
    "                poem_slang.append(word)\n",
    "                poem_phones = poem_phones + \" \"\n",
    "        \n",
    "        poems_slang.append(poem_slang)    \n",
    "        poems_phones.append(poem_phones)\n",
    "        \n",
    "    return poems_phones, poems_slang"
   ]
  },
  {
   "cell_type": "code",
   "execution_count": 190,
   "metadata": {},
   "outputs": [
    {
     "data": {
      "text/plain": [
       "996"
      ]
     },
     "execution_count": 190,
     "metadata": {},
     "output_type": "execute_result"
    }
   ],
   "source": [
    "phonemes, slang = poems_to_phones(poems_list)\n",
    "len(phonemes[27])"
   ]
  },
  {
   "cell_type": "code",
   "execution_count": 191,
   "metadata": {
    "code_folding": [
     0
    ]
   },
   "outputs": [
    {
     "data": {
      "text/plain": [
       "154"
      ]
     },
     "execution_count": 191,
     "metadata": {},
     "output_type": "execute_result"
    }
   ],
   "source": [
    "def count_phon_freq(phonemes):\n",
    "    phone_freqs = []\n",
    "    for i in range(len(phonemes)):\n",
    "        wordSet = set(phonemes[i])\n",
    "        wordDict = dict.fromkeys(wordSet, 0) \n",
    "\n",
    "        for word in phonemes[i]:\n",
    "            wordDict[word]+=1\n",
    "\n",
    "        phone_freqs.append(wordDict)\n",
    "    return phone_freqs\n",
    "\n",
    "phoneDict = count_phon_freq(phonemes)\n",
    "len(phoneDict)"
   ]
  },
  {
   "cell_type": "code",
   "execution_count": 222,
   "metadata": {
    "code_folding": []
   },
   "outputs": [
    {
     "data": {
      "text/plain": [
       "(154, 230)"
      ]
     },
     "execution_count": 222,
     "metadata": {},
     "output_type": "execute_result"
    }
   ],
   "source": [
    "def count_phon_pair_freq(phonemes):\n",
    "    phone_freqs = []\n",
    "    pair_list = []\n",
    "    for poem in phonemes:\n",
    "        phone_list = str.split(poem, ' ')\n",
    "        pair_list.append([phone_list[i] + phone_list[i+1] for i in range(len(phone_list)-1)])\n",
    "        #print(pair_list[0])\n",
    "        \n",
    "        for i in range(len(pair_list)-1):\n",
    "            wordSet = set(pair_list[i])\n",
    "            wordDict = dict.fromkeys(wordSet, 0) \n",
    "            #print(wordDict)\n",
    "\n",
    "            for word in pair_list[i]:\n",
    "                wordDict[word]+=1\n",
    "\n",
    "            phone_freqs.append(wordDict)\n",
    "    \n",
    "    return pair_list, phone_freqs\n",
    "pairList, pairDict = count_phon_pair_freq(phonemes)\n",
    "len(pairList), len(pairDict[5])"
   ]
  },
  {
   "cell_type": "code",
   "execution_count": null,
   "metadata": {},
   "outputs": [],
   "source": []
  },
  {
   "cell_type": "code",
   "execution_count": 137,
   "metadata": {
    "code_folding": []
   },
   "outputs": [],
   "source": [
    "def computeTF(wordDict, bow):\n",
    "    tfDict = {}\n",
    "    bowCount = len(bow)\n",
    "    for word, count in wordDict.items():\n",
    "        tfDict[word] = count/float(bowCount)\n",
    "    return tfDict"
   ]
  },
  {
   "cell_type": "code",
   "execution_count": 138,
   "metadata": {
    "collapsed": true
   },
   "outputs": [
    {
     "data": {
      "text/plain": [
       "{'': 0.2,\n",
       " 'AA1N': 0.4,\n",
       " 'AA1R': 0.2,\n",
       " 'AE0K': 0.2,\n",
       " 'AE1M': 0.2,\n",
       " 'AE1T': 0.4,\n",
       " 'AE1Z': 0.2,\n",
       " 'AH0': 0.2,\n",
       " 'AH0B': 0.2,\n",
       " 'AH0D': 0.2,\n",
       " 'AH0F': 0.2,\n",
       " 'AH0G': 0.4,\n",
       " 'AH0L': 0.6,\n",
       " 'AH0M': 0.2,\n",
       " 'AH0N': 1.2,\n",
       " 'AH0W': 0.6,\n",
       " 'AH1D': 0.2,\n",
       " 'AH1M': 0.2,\n",
       " 'AH1N': 0.2,\n",
       " 'AH1T': 0.4,\n",
       " 'AO1D': 0.2,\n",
       " 'AO1R': 0.4,\n",
       " 'AW1DH': 0.4,\n",
       " 'AW1K': 0.2,\n",
       " 'AY1': 0.4,\n",
       " 'AY1B': 0.2,\n",
       " 'AY1DH': 0.2,\n",
       " 'AY1ER0': 0.2,\n",
       " 'AY1F': 0.2,\n",
       " 'AY1K': 0.2,\n",
       " 'AY1M': 0.2,\n",
       " 'AY1N': 0.4,\n",
       " 'AY1S': 0.2,\n",
       " 'AY1T': 0.8,\n",
       " 'AY1Z': 0.4,\n",
       " 'AY2S': 0.2,\n",
       " 'B': 0.2,\n",
       " 'BAH1': 0.8,\n",
       " 'BAY1': 0.6,\n",
       " 'BEH1': 0.2,\n",
       " 'BIY1': 0.2,\n",
       " 'BR': 0.2,\n",
       " 'CHER0': 0.2,\n",
       " 'D': 0.2,\n",
       " 'DAH0': 0.2,\n",
       " 'DAO1': 0.2,\n",
       " 'DAY1': 0.2,\n",
       " 'DB': 0.2,\n",
       " 'DDH': 0.2,\n",
       " 'DER0': 0.4,\n",
       " 'DH': 0.6,\n",
       " 'DHAE1': 0.4,\n",
       " 'DHAH0': 1.2,\n",
       " 'DHAW1': 0.4,\n",
       " 'DHAY1': 1.2,\n",
       " 'DHAY2': 0.2,\n",
       " 'DHEH1': 0.2,\n",
       " 'DHIH1': 0.4,\n",
       " 'DHIY1': 0.2,\n",
       " 'DIH0': 0.4,\n",
       " 'DIY0': 0.2,\n",
       " 'DOW1': 0.2,\n",
       " 'DT': 0.6,\n",
       " 'DUW1': 0.2,\n",
       " 'DZ': 0.4,\n",
       " 'EH0N': 0.2,\n",
       " 'EH1L': 0.6,\n",
       " 'EH1M': 0.2,\n",
       " 'EH1N': 0.4,\n",
       " 'EH1R': 1.2,\n",
       " 'EH1SH': 0.2,\n",
       " 'EH1V': 0.2,\n",
       " 'ER0': 0.2,\n",
       " 'ER0D': 0.2,\n",
       " 'ER0EH1': 0.2,\n",
       " 'ER0IH2': 0.2,\n",
       " 'ER0IY0': 0.2,\n",
       " 'ER0Z': 0.2,\n",
       " 'ER1L': 0.6,\n",
       " 'EY1K': 0.2,\n",
       " 'EY1M': 0.2,\n",
       " 'EY1S': 0.2,\n",
       " 'EY1V': 0.2,\n",
       " 'F': 0.4,\n",
       " 'FAE1': 0.2,\n",
       " 'FDH': 0.2,\n",
       " 'FEH1': 0.2,\n",
       " 'FL': 0.2,\n",
       " 'FOW1': 0.2,\n",
       " 'FR': 0.4,\n",
       " 'FT': 0.2,\n",
       " 'FY': 0.2,\n",
       " 'GAO1': 0.2,\n",
       " 'GR': 0.2,\n",
       " 'HHEH1': 0.2,\n",
       " 'HHIH1': 0.4,\n",
       " 'IH0DH': 0.2,\n",
       " 'IH0N': 0.2,\n",
       " 'IH0NG': 0.2,\n",
       " 'IH0S': 0.4,\n",
       " 'IH0Z': 0.2,\n",
       " 'IH1DH': 0.2,\n",
       " 'IH1N': 0.2,\n",
       " 'IH1NG': 0.2,\n",
       " 'IH1S': 0.2,\n",
       " 'IH1T': 0.2,\n",
       " 'IH1Z': 0.4,\n",
       " 'IH2N': 0.2,\n",
       " 'IY0B': 0.2,\n",
       " 'IY0DH': 0.2,\n",
       " 'IY0HH': 0.2,\n",
       " 'IY0S': 0.2,\n",
       " 'IY1': 0.2,\n",
       " 'IY1CH': 0.2,\n",
       " 'IY1D': 0.2,\n",
       " 'IY1S': 0.4,\n",
       " 'IY1T': 0.6,\n",
       " 'KAA1': 0.4,\n",
       " 'KIH0': 0.2,\n",
       " 'KR': 0.6,\n",
       " 'KT': 0.2,\n",
       " 'LAY1': 0.2,\n",
       " 'LD': 0.8,\n",
       " 'LDH': 0.2,\n",
       " 'LEY1': 0.2,\n",
       " 'LF': 0.4,\n",
       " 'LIY0': 0.2,\n",
       " 'LM': 0.2,\n",
       " 'LS': 0.2,\n",
       " 'MAH0': 0.4,\n",
       " 'MAY1': 0.4,\n",
       " 'MD': 0.2,\n",
       " 'MEH1': 0.2,\n",
       " 'MER0': 0.2,\n",
       " 'MEY1': 0.2,\n",
       " 'MF': 0.2,\n",
       " 'MW': 0.2,\n",
       " 'N': 0.2,\n",
       " 'NAH0': 0.2,\n",
       " 'NAW1': 0.2,\n",
       " 'NB': 0.4,\n",
       " 'ND': 1.2,\n",
       " 'NDH': 0.2,\n",
       " 'NEH1': 0.2,\n",
       " 'NGAH0': 0.2,\n",
       " 'NGW': 0.2,\n",
       " 'NK': 0.2,\n",
       " 'NL': 0.2,\n",
       " 'NOW1': 0.4,\n",
       " 'NS': 0.2,\n",
       " 'NT': 0.8,\n",
       " 'NW': 0.2,\n",
       " 'OW1N': 0.6,\n",
       " 'OW1T': 0.2,\n",
       " 'OW1Z': 0.2,\n",
       " 'P': 0.2,\n",
       " 'PIH1': 0.2,\n",
       " 'PR': 0.2,\n",
       " 'R': 0.2,\n",
       " 'RAE0': 0.2,\n",
       " 'RAH0': 0.4,\n",
       " 'RAH1': 0.2,\n",
       " 'RAY1': 0.2,\n",
       " 'RB': 0.2,\n",
       " 'REH1': 0.4,\n",
       " 'REY1': 0.2,\n",
       " 'RHH': 0.2,\n",
       " 'RIH0': 0.2,\n",
       " 'RIH1': 0.2,\n",
       " 'RIY1': 0.4,\n",
       " 'RM': 0.2,\n",
       " 'RN': 0.2,\n",
       " 'ROW1': 0.2,\n",
       " 'RT': 0.2,\n",
       " 'RUW1': 0.2,\n",
       " 'S': 0.2,\n",
       " 'SDH': 0.4,\n",
       " 'SEH1': 0.4,\n",
       " 'SH': 0.2,\n",
       " 'SHAO1': 0.2,\n",
       " 'SHH': 0.2,\n",
       " 'SHUH1': 0.2,\n",
       " 'SIY1': 0.2,\n",
       " 'SL': 0.2,\n",
       " 'SP': 0.2,\n",
       " 'ST': 0.4,\n",
       " 'SW': 0.2,\n",
       " 'TAA1': 0.2,\n",
       " 'TAE1': 0.2,\n",
       " 'TAH0': 0.6,\n",
       " 'TAY1': 0.4,\n",
       " 'TB': 0.2,\n",
       " 'TDH': 0.6,\n",
       " 'TEH0': 0.2,\n",
       " 'TEH1': 0.4,\n",
       " 'TIH0': 0.2,\n",
       " 'TIY0': 0.2,\n",
       " 'TK': 0.2,\n",
       " 'TN': 0.4,\n",
       " 'TR': 0.2,\n",
       " 'TS': 0.2,\n",
       " 'TUW1': 1.0,\n",
       " 'UH1D': 0.2,\n",
       " 'UW1AH0': 0.4,\n",
       " 'UW1B': 0.2,\n",
       " 'UW1DH': 0.6,\n",
       " 'UW1IY1': 0.2,\n",
       " 'UW1K': 0.2,\n",
       " 'VAH0': 0.2,\n",
       " 'VER0': 0.2,\n",
       " 'W': 0.2,\n",
       " 'WEH1': 0.2,\n",
       " 'WER1': 0.6,\n",
       " 'WEY1': 0.2,\n",
       " 'WIH0': 0.2,\n",
       " 'WIH1': 0.2,\n",
       " 'WIY1': 0.4,\n",
       " 'YUW1': 0.2,\n",
       " 'Z': 0.2,\n",
       " 'ZAY1': 0.2,\n",
       " 'ZD': 0.2,\n",
       " 'ZDH': 0.4,\n",
       " 'ZF': 0.2,\n",
       " 'ZM': 0.4,\n",
       " 'ZT': 0.2,\n",
       " 'ZW': 0.2}"
      ]
     },
     "execution_count": 138,
     "metadata": {},
     "output_type": "execute_result"
    }
   ],
   "source": [
    "def calculate_tf(pairDict, pairList):\n",
    "    tf_list = []\n",
    "    for i in range(len(pairList)-1):\n",
    "        tf = computeTF(pairDict[i], pairList[i])\n",
    "        tf_list.append(tf)\n",
    "    return tf_list\n",
    "\n",
    "l = calculate_tf(pairDict, pairList)   \n",
    "l[0]"
   ]
  },
  {
   "cell_type": "code",
   "execution_count": 161,
   "metadata": {
    "collapsed": true
   },
   "outputs": [
    {
     "ename": "ValueError",
     "evalue": "DataFrame constructor not properly called!",
     "output_type": "error",
     "traceback": [
      "\u001b[0;31m---------------------------------------------------------------------------\u001b[0m",
      "\u001b[0;31mValueError\u001b[0m                                Traceback (most recent call last)",
      "\u001b[0;32m<ipython-input-161-dd2c7a2bcf54>\u001b[0m in \u001b[0;36m<module>\u001b[0;34m\u001b[0m\n\u001b[1;32m      1\u001b[0m \u001b[0midfDict\u001b[0m \u001b[0;34m=\u001b[0m \u001b[0mpairDict\u001b[0m\u001b[0;34m[\u001b[0m\u001b[0;36m0\u001b[0m\u001b[0;34m]\u001b[0m\u001b[0;34m.\u001b[0m\u001b[0mkeys\u001b[0m\u001b[0;34m(\u001b[0m\u001b[0;34m)\u001b[0m\u001b[0;34m\u001b[0m\u001b[0m\n\u001b[1;32m      2\u001b[0m \u001b[0;31m#df = pd.DataFrame(idfDict)\u001b[0m\u001b[0;34m\u001b[0m\u001b[0;34m\u001b[0m\u001b[0m\n\u001b[0;32m----> 3\u001b[0;31m \u001b[0mdf\u001b[0m \u001b[0;34m=\u001b[0m \u001b[0mpd\u001b[0m\u001b[0;34m.\u001b[0m\u001b[0mDataFrame\u001b[0m\u001b[0;34m.\u001b[0m\u001b[0mfrom_dict\u001b[0m\u001b[0;34m(\u001b[0m\u001b[0midfDict\u001b[0m\u001b[0;34m)\u001b[0m\u001b[0;34m\u001b[0m\u001b[0m\n\u001b[0m",
      "\u001b[0;32m~/code/shakespeare/shakespeare-env/lib/python3.5/site-packages/pandas/core/frame.py\u001b[0m in \u001b[0;36mfrom_dict\u001b[0;34m(cls, data, orient, dtype, columns)\u001b[0m\n\u001b[1;32m    983\u001b[0m             \u001b[0;32mraise\u001b[0m \u001b[0mValueError\u001b[0m\u001b[0;34m(\u001b[0m\u001b[0;34m'only recognize index or columns for orient'\u001b[0m\u001b[0;34m)\u001b[0m\u001b[0;34m\u001b[0m\u001b[0m\n\u001b[1;32m    984\u001b[0m \u001b[0;34m\u001b[0m\u001b[0m\n\u001b[0;32m--> 985\u001b[0;31m         \u001b[0;32mreturn\u001b[0m \u001b[0mcls\u001b[0m\u001b[0;34m(\u001b[0m\u001b[0mdata\u001b[0m\u001b[0;34m,\u001b[0m \u001b[0mindex\u001b[0m\u001b[0;34m=\u001b[0m\u001b[0mindex\u001b[0m\u001b[0;34m,\u001b[0m \u001b[0mcolumns\u001b[0m\u001b[0;34m=\u001b[0m\u001b[0mcolumns\u001b[0m\u001b[0;34m,\u001b[0m \u001b[0mdtype\u001b[0m\u001b[0;34m=\u001b[0m\u001b[0mdtype\u001b[0m\u001b[0;34m)\u001b[0m\u001b[0;34m\u001b[0m\u001b[0m\n\u001b[0m\u001b[1;32m    986\u001b[0m \u001b[0;34m\u001b[0m\u001b[0m\n\u001b[1;32m    987\u001b[0m     \u001b[0;32mdef\u001b[0m \u001b[0mto_dict\u001b[0m\u001b[0;34m(\u001b[0m\u001b[0mself\u001b[0m\u001b[0;34m,\u001b[0m \u001b[0morient\u001b[0m\u001b[0;34m=\u001b[0m\u001b[0;34m'dict'\u001b[0m\u001b[0;34m,\u001b[0m \u001b[0minto\u001b[0m\u001b[0;34m=\u001b[0m\u001b[0mdict\u001b[0m\u001b[0;34m)\u001b[0m\u001b[0;34m:\u001b[0m\u001b[0;34m\u001b[0m\u001b[0m\n",
      "\u001b[0;32m~/code/shakespeare/shakespeare-env/lib/python3.5/site-packages/pandas/core/frame.py\u001b[0m in \u001b[0;36m__init__\u001b[0;34m(self, data, index, columns, dtype, copy)\u001b[0m\n\u001b[1;32m    420\u001b[0m                                          dtype=values.dtype, copy=False)\n\u001b[1;32m    421\u001b[0m             \u001b[0;32melse\u001b[0m\u001b[0;34m:\u001b[0m\u001b[0;34m\u001b[0m\u001b[0m\n\u001b[0;32m--> 422\u001b[0;31m                 \u001b[0;32mraise\u001b[0m \u001b[0mValueError\u001b[0m\u001b[0;34m(\u001b[0m\u001b[0;34m'DataFrame constructor not properly called!'\u001b[0m\u001b[0;34m)\u001b[0m\u001b[0;34m\u001b[0m\u001b[0m\n\u001b[0m\u001b[1;32m    423\u001b[0m \u001b[0;34m\u001b[0m\u001b[0m\n\u001b[1;32m    424\u001b[0m         \u001b[0mNDFrame\u001b[0m\u001b[0;34m.\u001b[0m\u001b[0m__init__\u001b[0m\u001b[0;34m(\u001b[0m\u001b[0mself\u001b[0m\u001b[0;34m,\u001b[0m \u001b[0mmgr\u001b[0m\u001b[0;34m,\u001b[0m \u001b[0mfastpath\u001b[0m\u001b[0;34m=\u001b[0m\u001b[0;32mTrue\u001b[0m\u001b[0;34m)\u001b[0m\u001b[0;34m\u001b[0m\u001b[0m\n",
      "\u001b[0;31mValueError\u001b[0m: DataFrame constructor not properly called!"
     ]
    }
   ],
   "source": [
    "idfDict = pairDict[0].keys()\n",
    "#df = pd.DataFrame(idfDict)\n",
    "df = pd.DataFrame.from_dict(idfDict)"
   ]
  },
  {
   "cell_type": "code",
   "execution_count": 176,
   "metadata": {},
   "outputs": [
    {
     "data": {
      "text/plain": [
       "352"
      ]
     },
     "execution_count": 176,
     "metadata": {},
     "output_type": "execute_result"
    }
   ],
   "source": []
  },
  {
   "cell_type": "code",
   "execution_count": 172,
   "metadata": {
    "code_folding": [],
    "collapsed": true
   },
   "outputs": [
    {
     "name": "stdout",
     "output_type": "stream",
     "text": [
      "{'': 0, 'NGAH0': 0, 'SW': 0, 'AH0': 0, 'NAH0': 0, 'AY1N': 0, 'EY1K': 0, 'ZDH': 0, 'AA1R': 0, 'IY0B': 0, 'BEH1': 0, 'AH1T': 0, 'WER1': 0, 'MAY1': 0, 'AH1M': 0, 'LDH': 0, 'DZ': 0, 'ER0IH2': 0, 'IH0S': 0, 'LAY1': 0, 'DB': 0, 'NL': 0, 'AH0M': 0, 'DAH0': 0, 'IH1T': 0, 'DHAY1': 0, 'EH1M': 0, 'BR': 0, 'MAH0': 0, 'DHIH1': 0, 'DHAH0': 0, 'MW': 0, 'ZD': 0, 'F': 0, 'EH1V': 0, 'TAY1': 0, 'WIH0': 0, 'ER0IY0': 0, 'ER1L': 0, 'AH1D': 0, 'ST': 0, 'AY1Z': 0, 'NS': 0, 'TK': 0, 'LM': 0, 'LF': 0, 'AY1S': 0, 'IH0N': 0, 'R': 0, 'D': 0, 'HHEH1': 0, 'AY1B': 0, 'IY1CH': 0, 'AY1M': 0, 'EH1N': 0, 'FEH1': 0, 'FOW1': 0, 'WIH1': 0, 'WEH1': 0, 'TAE1': 0, 'HHIH1': 0, 'IH0Z': 0, 'FDH': 0, 'UW1IY1': 0, 'WIY1': 0, 'UH1D': 0, 'AE1T': 0, 'IH1DH': 0, 'YUW1': 0, 'UW1B': 0, 'AY1': 0, 'FY': 0, 'AO1D': 0, 'EY1M': 0, 'IH0NG': 0, 'DOW1': 0, 'FR': 0, 'DHAY2': 0, 'MF': 0, 'AA1N': 0, 'REY1': 0, 'DIY0': 0, 'IY0HH': 0, 'CHER0': 0, 'TIH0': 0, 'TEH1': 0, 'TAH0': 0, 'AY1K': 0, 'PR': 0, 'AH0G': 0, 'DAO1': 0, 'ZF': 0, 'IH1Z': 0, 'UW1DH': 0, 'SIY1': 0, 'ER0Z': 0, 'SHUH1': 0, 'SHAO1': 0, 'OW1N': 0, 'AY1DH': 0, 'ROW1': 0, 'NGW': 0, 'AH0N': 0, 'Z': 0, 'B': 0, 'RN': 0, 'OW1Z': 0, 'KAA1': 0, 'WEY1': 0, 'FL': 0, 'MER0': 0, 'MD': 0, 'RB': 0, 'RAH1': 0, 'GAO1': 0, 'IY1D': 0, 'EY1V': 0, 'TN': 0, 'IY1T': 0, 'IY1': 0, 'IH2N': 0, 'VER0': 0, 'IH1N': 0, 'DAY1': 0, 'FT': 0, 'RAY1': 0, 'TB': 0, 'TIY0': 0, 'LD': 0, 'VAH0': 0, 'RHH': 0, 'ZAY1': 0, 'ZW': 0, 'NB': 0, 'TDH': 0, 'DT': 0, 'LEY1': 0, 'AE1Z': 0, 'GR': 0, 'NT': 0, 'RIY1': 0, 'DUW1': 0, 'EY1S': 0, 'MEH1': 0, 'AE0K': 0, 'LIY0': 0, 'IY0S': 0, 'TAA1': 0, 'TEH0': 0, 'SL': 0, 'RAH0': 0, 'FAE1': 0, 'AO1R': 0, 'DER0': 0, 'AY1F': 0, 'IH1S': 0, 'AH0D': 0, 'UW1K': 0, 'DHEH1': 0, 'DH': 0, 'IH1NG': 0, 'IY0DH': 0, 'AW1DH': 0, 'NAW1': 0, 'SH': 0, 'ER0': 0, 'IY1S': 0, 'TUW1': 0, 'AE1M': 0, 'EH1R': 0, 'DIH0': 0, 'SHH': 0, 'DHIY1': 0, 'W': 0, 'AH0B': 0, 'P': 0, 'BIY1': 0, 'EH1SH': 0, 'ZM': 0, 'LS': 0, 'AY1ER0': 0, 'BAY1': 0, 'AH1N': 0, 'PIH1': 0, 'DHAE1': 0, 'MEY1': 0, 'NEH1': 0, 'KR': 0, 'IH0DH': 0, 'NOW1': 0, 'ZT': 0, 'SEH1': 0, 'BAH1': 0, 'RIH0': 0, 'AY2S': 0, 'RUW1': 0, 'NDH': 0, 'AW1K': 0, 'DDH': 0, 'NK': 0, 'TR': 0, 'UW1AH0': 0, 'SDH': 0, 'TS': 0, 'REH1': 0, 'AH0F': 0, 'RAE0': 0, 'AY1T': 0, 'OW1T': 0, 'EH1L': 0, 'DHAW1': 0, 'RM': 0, 'ER0EH1': 0, 'AH0W': 0, 'RIH1': 0, 'ER0D': 0, 'KT': 0, 'SP': 0, 'NW': 0, 'N': 0, 'RT': 0, 'AH0L': 0, 'EH0N': 0, 'S': 0, 'KIH0': 0, 'ND': 0}\n"
     ]
    },
    {
     "ename": "KeyError",
     "evalue": "'DL'",
     "output_type": "error",
     "traceback": [
      "\u001b[0;31m---------------------------------------------------------------------------\u001b[0m",
      "\u001b[0;31mKeyError\u001b[0m                                  Traceback (most recent call last)",
      "\u001b[0;32m<ipython-input-172-5cf3c5370d46>\u001b[0m in \u001b[0;36m<module>\u001b[0;34m\u001b[0m\n\u001b[1;32m     20\u001b[0m     \u001b[0;32mreturn\u001b[0m \u001b[0midfDict\u001b[0m\u001b[0;34m\u001b[0m\u001b[0m\n\u001b[1;32m     21\u001b[0m \u001b[0;34m\u001b[0m\u001b[0m\n\u001b[0;32m---> 22\u001b[0;31m \u001b[0mcomputeIDF\u001b[0m\u001b[0;34m(\u001b[0m\u001b[0mpairDict\u001b[0m\u001b[0;34m)\u001b[0m\u001b[0;34m\u001b[0m\u001b[0m\n\u001b[0m",
      "\u001b[0;32m<ipython-input-172-5cf3c5370d46>\u001b[0m in \u001b[0;36mcomputeIDF\u001b[0;34m(docList)\u001b[0m\n\u001b[1;32m     10\u001b[0m         \u001b[0;32mfor\u001b[0m \u001b[0mword\u001b[0m\u001b[0;34m,\u001b[0m \u001b[0mval\u001b[0m \u001b[0;32min\u001b[0m \u001b[0mdoc\u001b[0m\u001b[0;34m.\u001b[0m\u001b[0mitems\u001b[0m\u001b[0;34m(\u001b[0m\u001b[0;34m)\u001b[0m\u001b[0;34m:\u001b[0m\u001b[0;34m\u001b[0m\u001b[0m\n\u001b[1;32m     11\u001b[0m             \u001b[0;32mif\u001b[0m \u001b[0mval\u001b[0m \u001b[0;34m>\u001b[0m \u001b[0;36m0\u001b[0m\u001b[0;34m:\u001b[0m\u001b[0;34m\u001b[0m\u001b[0m\n\u001b[0;32m---> 12\u001b[0;31m                 \u001b[0midfDict\u001b[0m\u001b[0;34m[\u001b[0m\u001b[0mword\u001b[0m\u001b[0;34m]\u001b[0m \u001b[0;34m+=\u001b[0m \u001b[0;36m1\u001b[0m\u001b[0;34m\u001b[0m\u001b[0m\n\u001b[0m\u001b[1;32m     13\u001b[0m \u001b[0;34m\u001b[0m\u001b[0m\n\u001b[1;32m     14\u001b[0m     \u001b[0;32mfor\u001b[0m \u001b[0mword\u001b[0m\u001b[0;34m,\u001b[0m \u001b[0mval\u001b[0m \u001b[0;32min\u001b[0m \u001b[0midfDict\u001b[0m\u001b[0;34m.\u001b[0m\u001b[0mitems\u001b[0m\u001b[0;34m(\u001b[0m\u001b[0;34m)\u001b[0m\u001b[0;34m:\u001b[0m\u001b[0;34m\u001b[0m\u001b[0m\n",
      "\u001b[0;31mKeyError\u001b[0m: 'DL'"
     ]
    }
   ],
   "source": [
    "def computeIDF(docList):\n",
    "    idfDict = {}\n",
    "    N = len(docList)\n",
    "    #print(docList[0].keys())\n",
    "    all_existing_pairs = set(union(pairList))\n",
    "    idfDict = dict.fromkeys(docList[0].keys(), 0)\n",
    "    l = [docList[i].keys() for i in range(len(docList)-1)]\n",
    "    #print(l[])\n",
    "    print(idfDict)\n",
    "    for doc in docList:\n",
    "        for word, val in doc.items():\n",
    "            if val > 0:\n",
    "                idfDict[word] += 1\n",
    "    \n",
    "    for word, val in idfDict.items():\n",
    "        #idfDict[word] = math.log10(N / float(val))\n",
    "        idfDict[word] = math.log10(N / float(val))\n",
    "        idfDict[word] = math.log10(N / float(val))\n",
    "        #idfDictLinear[word] = (N / float(val))\n",
    "        \n",
    "    return idfDict\n",
    "\n",
    "computeIDF(pairDict)"
   ]
  },
  {
   "cell_type": "code",
   "execution_count": 143,
   "metadata": {},
   "outputs": [
    {
     "ename": "KeyError",
     "evalue": "'DL'",
     "output_type": "error",
     "traceback": [
      "\u001b[0;31m---------------------------------------------------------------------------\u001b[0m",
      "\u001b[0;31mKeyError\u001b[0m                                  Traceback (most recent call last)",
      "\u001b[0;32m<ipython-input-143-a5bb83007ad9>\u001b[0m in \u001b[0;36m<module>\u001b[0;34m\u001b[0m\n\u001b[0;32m----> 1\u001b[0;31m \u001b[0midfs\u001b[0m \u001b[0;34m=\u001b[0m \u001b[0mcomputeIDF\u001b[0m\u001b[0;34m(\u001b[0m\u001b[0;34m[\u001b[0m\u001b[0mpairDict\u001b[0m\u001b[0;34m[\u001b[0m\u001b[0mi\u001b[0m\u001b[0;34m]\u001b[0m \u001b[0;32mfor\u001b[0m \u001b[0mi\u001b[0m \u001b[0;32min\u001b[0m \u001b[0mrange\u001b[0m\u001b[0;34m(\u001b[0m\u001b[0mlen\u001b[0m\u001b[0;34m(\u001b[0m\u001b[0mpairDict\u001b[0m\u001b[0;34m)\u001b[0m\u001b[0;34m-\u001b[0m\u001b[0;36m1\u001b[0m\u001b[0;34m)\u001b[0m\u001b[0;34m]\u001b[0m\u001b[0;34m)\u001b[0m\u001b[0;34m\u001b[0m\u001b[0m\n\u001b[0m",
      "\u001b[0;32m<ipython-input-142-547bbe376cce>\u001b[0m in \u001b[0;36mcomputeIDF\u001b[0;34m(docList)\u001b[0m\n\u001b[1;32m      7\u001b[0m         \u001b[0;32mfor\u001b[0m \u001b[0mword\u001b[0m\u001b[0;34m,\u001b[0m \u001b[0mval\u001b[0m \u001b[0;32min\u001b[0m \u001b[0mdoc\u001b[0m\u001b[0;34m.\u001b[0m\u001b[0mitems\u001b[0m\u001b[0;34m(\u001b[0m\u001b[0;34m)\u001b[0m\u001b[0;34m:\u001b[0m\u001b[0;34m\u001b[0m\u001b[0m\n\u001b[1;32m      8\u001b[0m             \u001b[0;32mif\u001b[0m \u001b[0mval\u001b[0m \u001b[0;34m>\u001b[0m \u001b[0;36m0\u001b[0m\u001b[0;34m:\u001b[0m\u001b[0;34m\u001b[0m\u001b[0m\n\u001b[0;32m----> 9\u001b[0;31m                 \u001b[0midfDict\u001b[0m\u001b[0;34m[\u001b[0m\u001b[0mword\u001b[0m\u001b[0;34m]\u001b[0m \u001b[0;34m+=\u001b[0m \u001b[0;36m1\u001b[0m\u001b[0;34m\u001b[0m\u001b[0m\n\u001b[0m\u001b[1;32m     10\u001b[0m \u001b[0;34m\u001b[0m\u001b[0m\n\u001b[1;32m     11\u001b[0m     \u001b[0;32mfor\u001b[0m \u001b[0mword\u001b[0m\u001b[0;34m,\u001b[0m \u001b[0mval\u001b[0m \u001b[0;32min\u001b[0m \u001b[0midfDict\u001b[0m\u001b[0;34m.\u001b[0m\u001b[0mitems\u001b[0m\u001b[0;34m(\u001b[0m\u001b[0;34m)\u001b[0m\u001b[0;34m:\u001b[0m\u001b[0;34m\u001b[0m\u001b[0m\n",
      "\u001b[0;31mKeyError\u001b[0m: 'DL'"
     ]
    }
   ],
   "source": [
    "idfs = computeIDF([pairDict[i] for i in range(len(pairDict)-1)])"
   ]
  },
  {
   "cell_type": "code",
   "execution_count": 173,
   "metadata": {
    "collapsed": true
   },
   "outputs": [
    {
     "name": "stdout",
     "output_type": "stream",
     "text": [
      "{'': 0, 'NGAH0': 0, 'SW': 0, 'AH0': 0, 'NAH0': 0, 'AY1N': 0, 'EY1K': 0, 'ZDH': 0, 'AA1R': 0, 'IY0B': 0, 'BEH1': 0, 'AH1T': 0, 'WER1': 0, 'MAY1': 0, 'AH1M': 0, 'LDH': 0, 'DZ': 0, 'ER0IH2': 0, 'IH0S': 0, 'LAY1': 0, 'DB': 0, 'NL': 0, 'AH0M': 0, 'DAH0': 0, 'IH1T': 0, 'DHAY1': 0, 'EH1M': 0, 'BR': 0, 'MAH0': 0, 'DHIH1': 0, 'DHAH0': 0, 'MW': 0, 'ZD': 0, 'F': 0, 'EH1V': 0, 'TAY1': 0, 'WIH0': 0, 'ER0IY0': 0, 'ER1L': 0, 'AH1D': 0, 'ST': 0, 'AY1Z': 0, 'NS': 0, 'TK': 0, 'LM': 0, 'LF': 0, 'AY1S': 0, 'IH0N': 0, 'R': 0, 'D': 0, 'HHEH1': 0, 'AY1B': 0, 'IY1CH': 0, 'AY1M': 0, 'EH1N': 0, 'FEH1': 0, 'FOW1': 0, 'WIH1': 0, 'WEH1': 0, 'TAE1': 0, 'HHIH1': 0, 'IH0Z': 0, 'FDH': 0, 'UW1IY1': 0, 'WIY1': 0, 'UH1D': 0, 'AE1T': 0, 'IH1DH': 0, 'YUW1': 0, 'UW1B': 0, 'AY1': 0, 'FY': 0, 'AO1D': 0, 'EY1M': 0, 'IH0NG': 0, 'DOW1': 0, 'FR': 0, 'DHAY2': 0, 'MF': 0, 'AA1N': 0, 'REY1': 0, 'DIY0': 0, 'IY0HH': 0, 'CHER0': 0, 'TIH0': 0, 'TEH1': 0, 'TAH0': 0, 'AY1K': 0, 'PR': 0, 'AH0G': 0, 'DAO1': 0, 'ZF': 0, 'IH1Z': 0, 'UW1DH': 0, 'SIY1': 0, 'ER0Z': 0, 'SHUH1': 0, 'SHAO1': 0, 'OW1N': 0, 'AY1DH': 0, 'ROW1': 0, 'NGW': 0, 'AH0N': 0, 'Z': 0, 'B': 0, 'RN': 0, 'OW1Z': 0, 'KAA1': 0, 'WEY1': 0, 'FL': 0, 'MER0': 0, 'MD': 0, 'RB': 0, 'RAH1': 0, 'GAO1': 0, 'IY1D': 0, 'EY1V': 0, 'TN': 0, 'IY1T': 0, 'IY1': 0, 'IH2N': 0, 'VER0': 0, 'IH1N': 0, 'DAY1': 0, 'FT': 0, 'RAY1': 0, 'TB': 0, 'TIY0': 0, 'LD': 0, 'VAH0': 0, 'RHH': 0, 'ZAY1': 0, 'ZW': 0, 'NB': 0, 'TDH': 0, 'DT': 0, 'LEY1': 0, 'AE1Z': 0, 'GR': 0, 'NT': 0, 'RIY1': 0, 'DUW1': 0, 'EY1S': 0, 'MEH1': 0, 'AE0K': 0, 'LIY0': 0, 'IY0S': 0, 'TAA1': 0, 'TEH0': 0, 'SL': 0, 'RAH0': 0, 'FAE1': 0, 'AO1R': 0, 'DER0': 0, 'AY1F': 0, 'IH1S': 0, 'AH0D': 0, 'UW1K': 0, 'DHEH1': 0, 'DH': 0, 'IH1NG': 0, 'IY0DH': 0, 'AW1DH': 0, 'NAW1': 0, 'SH': 0, 'ER0': 0, 'IY1S': 0, 'TUW1': 0, 'AE1M': 0, 'EH1R': 0, 'DIH0': 0, 'SHH': 0, 'DHIY1': 0, 'W': 0, 'AH0B': 0, 'P': 0, 'BIY1': 0, 'EH1SH': 0, 'ZM': 0, 'LS': 0, 'AY1ER0': 0, 'BAY1': 0, 'AH1N': 0, 'PIH1': 0, 'DHAE1': 0, 'MEY1': 0, 'NEH1': 0, 'KR': 0, 'IH0DH': 0, 'NOW1': 0, 'ZT': 0, 'SEH1': 0, 'BAH1': 0, 'RIH0': 0, 'AY2S': 0, 'RUW1': 0, 'NDH': 0, 'AW1K': 0, 'DDH': 0, 'NK': 0, 'TR': 0, 'UW1AH0': 0, 'SDH': 0, 'TS': 0, 'REH1': 0, 'AH0F': 0, 'RAE0': 0, 'AY1T': 0, 'OW1T': 0, 'EH1L': 0, 'DHAW1': 0, 'RM': 0, 'ER0EH1': 0, 'AH0W': 0, 'RIH1': 0, 'ER0D': 0, 'KT': 0, 'SP': 0, 'NW': 0, 'N': 0, 'RT': 0, 'AH0L': 0, 'EH0N': 0, 'S': 0, 'KIH0': 0, 'ND': 0}\n"
     ]
    },
    {
     "ename": "KeyError",
     "evalue": "'DL'",
     "output_type": "error",
     "traceback": [
      "\u001b[0;31m---------------------------------------------------------------------------\u001b[0m",
      "\u001b[0;31mKeyError\u001b[0m                                  Traceback (most recent call last)",
      "\u001b[0;32m<ipython-input-173-0eec1a4d8f07>\u001b[0m in \u001b[0;36m<module>\u001b[0;34m\u001b[0m\n\u001b[1;32m      8\u001b[0m     \u001b[0;32mreturn\u001b[0m \u001b[0midfs_list\u001b[0m\u001b[0;34m\u001b[0m\u001b[0m\n\u001b[1;32m      9\u001b[0m \u001b[0;34m\u001b[0m\u001b[0m\n\u001b[0;32m---> 10\u001b[0;31m \u001b[0mmake_idfs_list\u001b[0m\u001b[0;34m(\u001b[0m\u001b[0mpairDict\u001b[0m\u001b[0;34m)\u001b[0m\u001b[0;34m\u001b[0m\u001b[0m\n\u001b[0m",
      "\u001b[0;32m<ipython-input-173-0eec1a4d8f07>\u001b[0m in \u001b[0;36mmake_idfs_list\u001b[0;34m(pairDict)\u001b[0m\n\u001b[1;32m      3\u001b[0m     \u001b[0midfs_list\u001b[0m \u001b[0;34m=\u001b[0m \u001b[0;34m[\u001b[0m\u001b[0;34m]\u001b[0m\u001b[0;34m\u001b[0m\u001b[0m\n\u001b[1;32m      4\u001b[0m     \u001b[0;32mfor\u001b[0m \u001b[0mi\u001b[0m \u001b[0;32min\u001b[0m \u001b[0mrange\u001b[0m\u001b[0;34m(\u001b[0m\u001b[0mlen\u001b[0m\u001b[0;34m(\u001b[0m\u001b[0mpairDict\u001b[0m\u001b[0;34m)\u001b[0m\u001b[0;34m-\u001b[0m\u001b[0;36m1\u001b[0m\u001b[0;34m)\u001b[0m\u001b[0;34m:\u001b[0m\u001b[0;34m\u001b[0m\u001b[0m\n\u001b[0;32m----> 5\u001b[0;31m         \u001b[0midfs\u001b[0m \u001b[0;34m=\u001b[0m \u001b[0mcomputeIDF\u001b[0m\u001b[0;34m(\u001b[0m\u001b[0;34m[\u001b[0m\u001b[0mpairDict\u001b[0m\u001b[0;34m[\u001b[0m\u001b[0mi\u001b[0m\u001b[0;34m]\u001b[0m \u001b[0;32mfor\u001b[0m \u001b[0mi\u001b[0m \u001b[0;32min\u001b[0m \u001b[0mrange\u001b[0m\u001b[0;34m(\u001b[0m\u001b[0mlen\u001b[0m\u001b[0;34m(\u001b[0m\u001b[0mpairDict\u001b[0m\u001b[0;34m)\u001b[0m\u001b[0;34m-\u001b[0m\u001b[0;36m1\u001b[0m\u001b[0;34m)\u001b[0m\u001b[0;34m]\u001b[0m\u001b[0;34m)\u001b[0m\u001b[0;34m\u001b[0m\u001b[0m\n\u001b[0m\u001b[1;32m      6\u001b[0m         \u001b[0midfs_list\u001b[0m\u001b[0;34m.\u001b[0m\u001b[0mappend\u001b[0m\u001b[0;34m(\u001b[0m\u001b[0midfs\u001b[0m\u001b[0;34m)\u001b[0m\u001b[0;34m\u001b[0m\u001b[0m\n\u001b[1;32m      7\u001b[0m \u001b[0;34m\u001b[0m\u001b[0m\n",
      "\u001b[0;32m<ipython-input-172-5cf3c5370d46>\u001b[0m in \u001b[0;36mcomputeIDF\u001b[0;34m(docList)\u001b[0m\n\u001b[1;32m     10\u001b[0m         \u001b[0;32mfor\u001b[0m \u001b[0mword\u001b[0m\u001b[0;34m,\u001b[0m \u001b[0mval\u001b[0m \u001b[0;32min\u001b[0m \u001b[0mdoc\u001b[0m\u001b[0;34m.\u001b[0m\u001b[0mitems\u001b[0m\u001b[0;34m(\u001b[0m\u001b[0;34m)\u001b[0m\u001b[0;34m:\u001b[0m\u001b[0;34m\u001b[0m\u001b[0m\n\u001b[1;32m     11\u001b[0m             \u001b[0;32mif\u001b[0m \u001b[0mval\u001b[0m \u001b[0;34m>\u001b[0m \u001b[0;36m0\u001b[0m\u001b[0;34m:\u001b[0m\u001b[0;34m\u001b[0m\u001b[0m\n\u001b[0;32m---> 12\u001b[0;31m                 \u001b[0midfDict\u001b[0m\u001b[0;34m[\u001b[0m\u001b[0mword\u001b[0m\u001b[0;34m]\u001b[0m \u001b[0;34m+=\u001b[0m \u001b[0;36m1\u001b[0m\u001b[0;34m\u001b[0m\u001b[0m\n\u001b[0m\u001b[1;32m     13\u001b[0m \u001b[0;34m\u001b[0m\u001b[0m\n\u001b[1;32m     14\u001b[0m     \u001b[0;32mfor\u001b[0m \u001b[0mword\u001b[0m\u001b[0;34m,\u001b[0m \u001b[0mval\u001b[0m \u001b[0;32min\u001b[0m \u001b[0midfDict\u001b[0m\u001b[0;34m.\u001b[0m\u001b[0mitems\u001b[0m\u001b[0;34m(\u001b[0m\u001b[0;34m)\u001b[0m\u001b[0;34m:\u001b[0m\u001b[0;34m\u001b[0m\u001b[0m\n",
      "\u001b[0;31mKeyError\u001b[0m: 'DL'"
     ]
    }
   ],
   "source": [
    "#idfs = computeIDF([wordDictA, wordDictB])\n",
    "def make_idfs_list(pairDict):\n",
    "    idfs_list = []\n",
    "    for i in range(len(pairDict)-1):\n",
    "        idfs = computeIDF([pairDict[i] for i in range(len(pairDict)-1)])\n",
    "        idfs_list.append(idfs)\n",
    "        \n",
    "    return idfs_list\n",
    "\n",
    "make_idfs_list(pairDict)"
   ]
  },
  {
   "cell_type": "code",
   "execution_count": null,
   "metadata": {},
   "outputs": [],
   "source": [
    "def computeTFIDF(tfBow, idfs):\n",
    "    tfidf = {}\n",
    "    for word, val in tfBow.items():\n",
    "        tfidf[word] = val*idfs[word]\n",
    "    return tfidf"
   ]
  }
 ],
 "metadata": {
  "kernelspec": {
   "display_name": "shakespeare-env",
   "language": "python",
   "name": "shakespeare-env"
  },
  "language_info": {
   "codemirror_mode": {
    "name": "ipython",
    "version": 3
   },
   "file_extension": ".py",
   "mimetype": "text/x-python",
   "name": "python",
   "nbconvert_exporter": "python",
   "pygments_lexer": "ipython3",
   "version": "3.5.2"
  }
 },
 "nbformat": 4,
 "nbformat_minor": 2
}
